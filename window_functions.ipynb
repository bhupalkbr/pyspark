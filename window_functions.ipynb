{
 "cells": [
  {
   "cell_type": "code",
   "execution_count": 1,
   "metadata": {},
   "outputs": [
    {
     "data": {
      "application/javascript": [
       "\n",
       "            setTimeout(function() {\n",
       "                var nbb_cell_id = 1;\n",
       "                var nbb_unformatted_code = \"%load_ext nb_black\\nfrom pyspark.sql import SparkSession\\nimport pyspark.sql.functions as F\\nimport pyspark.sql.types as T\\nfrom pyspark.sql import Window\\n\\nspark = SparkSession.builder.getOrCreate()\";\n",
       "                var nbb_formatted_code = \"%load_ext nb_black\\nfrom pyspark.sql import SparkSession\\nimport pyspark.sql.functions as F\\nimport pyspark.sql.types as T\\nfrom pyspark.sql import Window\\n\\nspark = SparkSession.builder.getOrCreate()\";\n",
       "                var nbb_cells = Jupyter.notebook.get_cells();\n",
       "                for (var i = 0; i < nbb_cells.length; ++i) {\n",
       "                    if (nbb_cells[i].input_prompt_number == nbb_cell_id) {\n",
       "                        if (nbb_cells[i].get_text() == nbb_unformatted_code) {\n",
       "                             nbb_cells[i].set_text(nbb_formatted_code);\n",
       "                        }\n",
       "                        break;\n",
       "                    }\n",
       "                }\n",
       "            }, 500);\n",
       "            "
      ],
      "text/plain": [
       "<IPython.core.display.Javascript object>"
      ]
     },
     "metadata": {},
     "output_type": "display_data"
    }
   ],
   "source": [
    "%load_ext nb_black\n",
    "from pyspark.sql import SparkSession\n",
    "import pyspark.sql.functions as F\n",
    "import pyspark.sql.types as T\n",
    "from pyspark.sql import Window\n",
    "\n",
    "spark = SparkSession.builder.getOrCreate()"
   ]
  },
  {
   "cell_type": "code",
   "execution_count": 2,
   "metadata": {},
   "outputs": [
    {
     "name": "stdout",
     "output_type": "stream",
     "text": [
      "+---+-----+------+\n",
      "| id| dept|salary|\n",
      "+---+-----+------+\n",
      "|  1|sales|  4200|\n",
      "|  2|admin|  3100|\n",
      "|  3|sales|  4000|\n",
      "|  4|sales|  4000|\n",
      "|  5|admin|  2700|\n",
      "|  6|  dev|  3400|\n",
      "|  7|  dev|  5200|\n",
      "|  8|  dev|  3700|\n",
      "|  9|  dev|  4400|\n",
      "| 10|  dev|  4400|\n",
      "+---+-----+------+\n",
      "\n"
     ]
    },
    {
     "data": {
      "application/javascript": [
       "\n",
       "            setTimeout(function() {\n",
       "                var nbb_cell_id = 2;\n",
       "                var nbb_unformatted_code = \"l = [\\n    (1, \\\"sales\\\", 4200),\\n    (2, \\\"admin\\\", 3100),\\n    (3, \\\"sales\\\", 4000),\\n    (4, \\\"sales\\\", 4000),\\n    (5, \\\"admin\\\", 2700),\\n    (6, \\\"dev\\\", 3400),\\n    (7, \\\"dev\\\", 5200),\\n    (8, \\\"dev\\\", 3700),\\n    (9, \\\"dev\\\", 4400),\\n    (10, \\\"dev\\\", 4400),\\n]\\n\\ndata = spark.createDataFrame(l, schema=[\\\"id\\\", \\\"dept\\\", \\\"salary\\\"])\\ndata.show()\";\n",
       "                var nbb_formatted_code = \"l = [\\n    (1, \\\"sales\\\", 4200),\\n    (2, \\\"admin\\\", 3100),\\n    (3, \\\"sales\\\", 4000),\\n    (4, \\\"sales\\\", 4000),\\n    (5, \\\"admin\\\", 2700),\\n    (6, \\\"dev\\\", 3400),\\n    (7, \\\"dev\\\", 5200),\\n    (8, \\\"dev\\\", 3700),\\n    (9, \\\"dev\\\", 4400),\\n    (10, \\\"dev\\\", 4400),\\n]\\n\\ndata = spark.createDataFrame(l, schema=[\\\"id\\\", \\\"dept\\\", \\\"salary\\\"])\\ndata.show()\";\n",
       "                var nbb_cells = Jupyter.notebook.get_cells();\n",
       "                for (var i = 0; i < nbb_cells.length; ++i) {\n",
       "                    if (nbb_cells[i].input_prompt_number == nbb_cell_id) {\n",
       "                        if (nbb_cells[i].get_text() == nbb_unformatted_code) {\n",
       "                             nbb_cells[i].set_text(nbb_formatted_code);\n",
       "                        }\n",
       "                        break;\n",
       "                    }\n",
       "                }\n",
       "            }, 500);\n",
       "            "
      ],
      "text/plain": [
       "<IPython.core.display.Javascript object>"
      ]
     },
     "metadata": {},
     "output_type": "display_data"
    }
   ],
   "source": [
    "l = [\n",
    "    (1, \"sales\", 4200),\n",
    "    (2, \"admin\", 3100),\n",
    "    (3, \"sales\", 4000),\n",
    "    (4, \"sales\", 4000),\n",
    "    (5, \"admin\", 2700),\n",
    "    (6, \"dev\", 3400),\n",
    "    (7, \"dev\", 5200),\n",
    "    (8, \"dev\", 3700),\n",
    "    (9, \"dev\", 4400),\n",
    "    (10, \"dev\", 4400),\n",
    "]\n",
    "\n",
    "data = spark.createDataFrame(l, schema=[\"id\", \"dept\", \"salary\"])\n",
    "data.show()"
   ]
  },
  {
   "cell_type": "code",
   "execution_count": 3,
   "metadata": {},
   "outputs": [
    {
     "name": "stdout",
     "output_type": "stream",
     "text": [
      "+-----+--------------------+------------------+------------+\n",
      "| dept|         list_salary|    average_salary|total_salary|\n",
      "+-----+--------------------+------------------+------------+\n",
      "|  dev|[3400, 5200, 3700...|            4220.0|       21100|\n",
      "|sales|  [4200, 4000, 4000]|4066.6666666666665|       12200|\n",
      "|admin|        [3100, 2700]|            2900.0|        5800|\n",
      "+-----+--------------------+------------------+------------+\n",
      "\n"
     ]
    },
    {
     "data": {
      "application/javascript": [
       "\n",
       "            setTimeout(function() {\n",
       "                var nbb_cell_id = 3;\n",
       "                var nbb_unformatted_code = \"df = data.groupBy(\\\"dept\\\").agg(\\n    F.expr(\\\"collect_list(salary)\\\").alias(\\\"list_salary\\\"),\\n    F.expr(\\\"avg(salary)\\\").alias(\\\"average_salary\\\"),\\n    F.expr(\\\"sum(salary)\\\").alias(\\\"total_salary\\\"),\\n)\\n\\ndf.show()\";\n",
       "                var nbb_formatted_code = \"df = data.groupBy(\\\"dept\\\").agg(\\n    F.expr(\\\"collect_list(salary)\\\").alias(\\\"list_salary\\\"),\\n    F.expr(\\\"avg(salary)\\\").alias(\\\"average_salary\\\"),\\n    F.expr(\\\"sum(salary)\\\").alias(\\\"total_salary\\\"),\\n)\\n\\ndf.show()\";\n",
       "                var nbb_cells = Jupyter.notebook.get_cells();\n",
       "                for (var i = 0; i < nbb_cells.length; ++i) {\n",
       "                    if (nbb_cells[i].input_prompt_number == nbb_cell_id) {\n",
       "                        if (nbb_cells[i].get_text() == nbb_unformatted_code) {\n",
       "                             nbb_cells[i].set_text(nbb_formatted_code);\n",
       "                        }\n",
       "                        break;\n",
       "                    }\n",
       "                }\n",
       "            }, 500);\n",
       "            "
      ],
      "text/plain": [
       "<IPython.core.display.Javascript object>"
      ]
     },
     "metadata": {},
     "output_type": "display_data"
    }
   ],
   "source": [
    "df = data.groupBy(\"dept\").agg(\n",
    "    F.expr(\"collect_list(salary)\").alias(\"list_salary\"),\n",
    "    F.expr(\"avg(salary)\").alias(\"average_salary\"),\n",
    "    F.expr(\"sum(salary)\").alias(\"total_salary\"),\n",
    ")\n",
    "\n",
    "df.show()"
   ]
  },
  {
   "cell_type": "code",
   "execution_count": 4,
   "metadata": {},
   "outputs": [
    {
     "name": "stdout",
     "output_type": "stream",
     "text": [
      "+---+-----+------+--------------------+------------------+------------+\n",
      "| id| dept|salary|         list_salary|    average_salary|total_salary|\n",
      "+---+-----+------+--------------------+------------------+------------+\n",
      "|  6|  dev|  3400|[3400, 5200, 3700...|            4220.0|       21100|\n",
      "|  7|  dev|  5200|[3400, 5200, 3700...|            4220.0|       21100|\n",
      "|  8|  dev|  3700|[3400, 5200, 3700...|            4220.0|       21100|\n",
      "|  9|  dev|  4400|[3400, 5200, 3700...|            4220.0|       21100|\n",
      "| 10|  dev|  4400|[3400, 5200, 3700...|            4220.0|       21100|\n",
      "|  1|sales|  4200|  [4200, 4000, 4000]|4066.6666666666665|       12200|\n",
      "|  3|sales|  4000|  [4200, 4000, 4000]|4066.6666666666665|       12200|\n",
      "|  4|sales|  4000|  [4200, 4000, 4000]|4066.6666666666665|       12200|\n",
      "|  2|admin|  3100|        [3100, 2700]|            2900.0|        5800|\n",
      "|  5|admin|  2700|        [3100, 2700]|            2900.0|        5800|\n",
      "+---+-----+------+--------------------+------------------+------------+\n",
      "\n"
     ]
    },
    {
     "data": {
      "application/javascript": [
       "\n",
       "            setTimeout(function() {\n",
       "                var nbb_cell_id = 4;\n",
       "                var nbb_unformatted_code = \"windowSpec = Window.partitionBy(\\\"dept\\\")\\n\\ndf = data.withColumn(\\\"list_salary\\\", F.collect_list(F.col(\\\"salary\\\")).over(windowSpec))\\\\\\n.withColumn(\\\"average_salary\\\", F.avg(F.col(\\\"salary\\\")).over(windowSpec))\\\\\\n.withColumn(\\\"total_salary\\\", F.sum(F.col(\\\"salary\\\")).over(windowSpec))\\n\\ndf.show()\";\n",
       "                var nbb_formatted_code = \"windowSpec = Window.partitionBy(\\\"dept\\\")\\n\\ndf = (\\n    data.withColumn(\\\"list_salary\\\", F.collect_list(F.col(\\\"salary\\\")).over(windowSpec))\\n    .withColumn(\\\"average_salary\\\", F.avg(F.col(\\\"salary\\\")).over(windowSpec))\\n    .withColumn(\\\"total_salary\\\", F.sum(F.col(\\\"salary\\\")).over(windowSpec))\\n)\\n\\ndf.show()\";\n",
       "                var nbb_cells = Jupyter.notebook.get_cells();\n",
       "                for (var i = 0; i < nbb_cells.length; ++i) {\n",
       "                    if (nbb_cells[i].input_prompt_number == nbb_cell_id) {\n",
       "                        if (nbb_cells[i].get_text() == nbb_unformatted_code) {\n",
       "                             nbb_cells[i].set_text(nbb_formatted_code);\n",
       "                        }\n",
       "                        break;\n",
       "                    }\n",
       "                }\n",
       "            }, 500);\n",
       "            "
      ],
      "text/plain": [
       "<IPython.core.display.Javascript object>"
      ]
     },
     "metadata": {},
     "output_type": "display_data"
    }
   ],
   "source": [
    "windowSpec = Window.partitionBy(\"dept\")\n",
    "\n",
    "df = data.withColumn(\"list_salary\", F.collect_list(F.col(\"salary\")).over(windowSpec))\\\n",
    ".withColumn(\"average_salary\", F.avg(F.col(\"salary\")).over(windowSpec))\\\n",
    ".withColumn(\"total_salary\", F.sum(F.col(\"salary\")).over(windowSpec))\n",
    "\n",
    "df.show()\n"
   ]
  },
  {
   "cell_type": "code",
   "execution_count": 11,
   "metadata": {},
   "outputs": [
    {
     "name": "stdout",
     "output_type": "stream",
     "text": [
      "+---+-----+------+--------------------+------------------+------------+\n",
      "| id| dept|salary|         list_salary|    average_salary|total_salary|\n",
      "+---+-----+------+--------------------+------------------+------------+\n",
      "|  6|  dev|  3400|              [3400]|            3400.0|        3400|\n",
      "|  8|  dev|  3700|        [3400, 3700]|            3550.0|        7100|\n",
      "|  9|  dev|  4400|[3400, 3700, 4400...|            3975.0|       15900|\n",
      "| 10|  dev|  4400|[3400, 3700, 4400...|            3975.0|       15900|\n",
      "|  7|  dev|  5200|[3400, 3700, 4400...|            4220.0|       21100|\n",
      "|  3|sales|  4000|        [4000, 4000]|            4000.0|        8000|\n",
      "|  4|sales|  4000|        [4000, 4000]|            4000.0|        8000|\n",
      "|  1|sales|  4200|  [4000, 4000, 4200]|4066.6666666666665|       12200|\n",
      "|  5|admin|  2700|              [2700]|            2700.0|        2700|\n",
      "|  2|admin|  3100|        [2700, 3100]|            2900.0|        5800|\n",
      "+---+-----+------+--------------------+------------------+------------+\n",
      "\n"
     ]
    },
    {
     "data": {
      "application/javascript": [
       "\n",
       "            setTimeout(function() {\n",
       "                var nbb_cell_id = 11;\n",
       "                var nbb_unformatted_code = \"windowSpec = Window.partitionBy(\\\"dept\\\").orderBy(F.asc(\\\"salary\\\"))\\n\\ndf = (\\n    data.withColumn(\\\"list_salary\\\", F.collect_list(F.col(\\\"salary\\\")).over(windowSpec))\\n    .withColumn(\\\"average_salary\\\", F.avg(F.col(\\\"salary\\\")).over(windowSpec))\\n    .withColumn(\\\"total_salary\\\", F.sum(F.col(\\\"salary\\\")).over(windowSpec))\\n)\\n\\ndf.show()\";\n",
       "                var nbb_formatted_code = \"windowSpec = Window.partitionBy(\\\"dept\\\").orderBy(F.asc(\\\"salary\\\"))\\n\\ndf = (\\n    data.withColumn(\\\"list_salary\\\", F.collect_list(F.col(\\\"salary\\\")).over(windowSpec))\\n    .withColumn(\\\"average_salary\\\", F.avg(F.col(\\\"salary\\\")).over(windowSpec))\\n    .withColumn(\\\"total_salary\\\", F.sum(F.col(\\\"salary\\\")).over(windowSpec))\\n)\\n\\ndf.show()\";\n",
       "                var nbb_cells = Jupyter.notebook.get_cells();\n",
       "                for (var i = 0; i < nbb_cells.length; ++i) {\n",
       "                    if (nbb_cells[i].input_prompt_number == nbb_cell_id) {\n",
       "                        if (nbb_cells[i].get_text() == nbb_unformatted_code) {\n",
       "                             nbb_cells[i].set_text(nbb_formatted_code);\n",
       "                        }\n",
       "                        break;\n",
       "                    }\n",
       "                }\n",
       "            }, 500);\n",
       "            "
      ],
      "text/plain": [
       "<IPython.core.display.Javascript object>"
      ]
     },
     "metadata": {},
     "output_type": "display_data"
    }
   ],
   "source": [
    "windowSpec = Window.partitionBy(\"dept\").orderBy(F.asc(\"salary\"))\n",
    "\n",
    "df = (\n",
    "    data.withColumn(\"list_salary\", F.collect_list(F.col(\"salary\")).over(windowSpec))\n",
    "    .withColumn(\"average_salary\", F.avg(F.col(\"salary\")).over(windowSpec))\n",
    "    .withColumn(\"total_salary\", F.sum(F.col(\"salary\")).over(windowSpec))\n",
    ")\n",
    "\n",
    "df.show()"
   ]
  },
  {
   "cell_type": "code",
   "execution_count": 12,
   "metadata": {},
   "outputs": [
    {
     "data": {
      "text/plain": [
       "[3400, 3700, 4400, 4400]"
      ]
     },
     "execution_count": 12,
     "metadata": {},
     "output_type": "execute_result"
    },
    {
     "data": {
      "application/javascript": [
       "\n",
       "            setTimeout(function() {\n",
       "                var nbb_cell_id = 12;\n",
       "                var nbb_unformatted_code = \"df.collect()[2][\\\"list_salary\\\"]\";\n",
       "                var nbb_formatted_code = \"df.collect()[2][\\\"list_salary\\\"]\";\n",
       "                var nbb_cells = Jupyter.notebook.get_cells();\n",
       "                for (var i = 0; i < nbb_cells.length; ++i) {\n",
       "                    if (nbb_cells[i].input_prompt_number == nbb_cell_id) {\n",
       "                        if (nbb_cells[i].get_text() == nbb_unformatted_code) {\n",
       "                             nbb_cells[i].set_text(nbb_formatted_code);\n",
       "                        }\n",
       "                        break;\n",
       "                    }\n",
       "                }\n",
       "            }, 500);\n",
       "            "
      ],
      "text/plain": [
       "<IPython.core.display.Javascript object>"
      ]
     },
     "metadata": {},
     "output_type": "display_data"
    }
   ],
   "source": [
    "df.collect()[2][\"list_salary\"]"
   ]
  },
  {
   "cell_type": "code",
   "execution_count": 13,
   "metadata": {},
   "outputs": [
    {
     "name": "stdout",
     "output_type": "stream",
     "text": [
      "+---+-----+------+--------------------+------------------+------------+\n",
      "| id| dept|salary|         list_salary|    average_salary|total_salary|\n",
      "+---+-----+------+--------------------+------------------+------------+\n",
      "|  6|  dev|  3400|              [3400]|            3400.0|        3400|\n",
      "|  8|  dev|  3700|        [3400, 3700]|            3550.0|        7100|\n",
      "|  9|  dev|  4400|  [3400, 3700, 4400]|3833.3333333333335|       11500|\n",
      "| 10|  dev|  4400|[3400, 3700, 4400...|            3975.0|       15900|\n",
      "|  7|  dev|  5200|[3400, 3700, 4400...|            4220.0|       21100|\n",
      "|  3|sales|  4000|              [4000]|            4000.0|        4000|\n",
      "|  4|sales|  4000|        [4000, 4000]|            4000.0|        8000|\n",
      "|  1|sales|  4200|  [4000, 4000, 4200]|4066.6666666666665|       12200|\n",
      "|  5|admin|  2700|              [2700]|            2700.0|        2700|\n",
      "|  2|admin|  3100|        [2700, 3100]|            2900.0|        5800|\n",
      "+---+-----+------+--------------------+------------------+------------+\n",
      "\n"
     ]
    },
    {
     "data": {
      "application/javascript": [
       "\n",
       "            setTimeout(function() {\n",
       "                var nbb_cell_id = 13;\n",
       "                var nbb_unformatted_code = \"windowSpec = (\\n    Window.partitionBy(\\\"dept\\\")\\n    .orderBy(F.asc(\\\"salary\\\"))\\n    .rowsBetween(Window.unboundedPreceding, Window.currentRow)\\n)\\n\\ndf = (\\n    data.withColumn(\\\"list_salary\\\", F.collect_list(F.col(\\\"salary\\\")).over(windowSpec))\\n    .withColumn(\\\"average_salary\\\", F.avg(F.col(\\\"salary\\\")).over(windowSpec))\\n    .withColumn(\\\"total_salary\\\", F.sum(F.col(\\\"salary\\\")).over(windowSpec))\\n)\\n\\ndf.show()\";\n",
       "                var nbb_formatted_code = \"windowSpec = (\\n    Window.partitionBy(\\\"dept\\\")\\n    .orderBy(F.asc(\\\"salary\\\"))\\n    .rowsBetween(Window.unboundedPreceding, Window.currentRow)\\n)\\n\\ndf = (\\n    data.withColumn(\\\"list_salary\\\", F.collect_list(F.col(\\\"salary\\\")).over(windowSpec))\\n    .withColumn(\\\"average_salary\\\", F.avg(F.col(\\\"salary\\\")).over(windowSpec))\\n    .withColumn(\\\"total_salary\\\", F.sum(F.col(\\\"salary\\\")).over(windowSpec))\\n)\\n\\ndf.show()\";\n",
       "                var nbb_cells = Jupyter.notebook.get_cells();\n",
       "                for (var i = 0; i < nbb_cells.length; ++i) {\n",
       "                    if (nbb_cells[i].input_prompt_number == nbb_cell_id) {\n",
       "                        if (nbb_cells[i].get_text() == nbb_unformatted_code) {\n",
       "                             nbb_cells[i].set_text(nbb_formatted_code);\n",
       "                        }\n",
       "                        break;\n",
       "                    }\n",
       "                }\n",
       "            }, 500);\n",
       "            "
      ],
      "text/plain": [
       "<IPython.core.display.Javascript object>"
      ]
     },
     "metadata": {},
     "output_type": "display_data"
    }
   ],
   "source": [
    "windowSpec = (\n",
    "    Window.partitionBy(\"dept\")\n",
    "    .orderBy(F.asc(\"salary\"))\n",
    "    .rowsBetween(Window.unboundedPreceding, Window.currentRow)\n",
    ")\n",
    "\n",
    "df = (\n",
    "    data.withColumn(\"list_salary\", F.collect_list(F.col(\"salary\")).over(windowSpec))\n",
    "    .withColumn(\"average_salary\", F.avg(F.col(\"salary\")).over(windowSpec))\n",
    "    .withColumn(\"total_salary\", F.sum(F.col(\"salary\")).over(windowSpec))\n",
    ")\n",
    "\n",
    "df.show()"
   ]
  },
  {
   "cell_type": "code",
   "execution_count": 15,
   "metadata": {},
   "outputs": [
    {
     "data": {
      "text/plain": [
       "[3400, 3700, 4400, 4400]"
      ]
     },
     "execution_count": 15,
     "metadata": {},
     "output_type": "execute_result"
    },
    {
     "data": {
      "application/javascript": [
       "\n",
       "            setTimeout(function() {\n",
       "                var nbb_cell_id = 15;\n",
       "                var nbb_unformatted_code = \"df.collect()[3][\\\"list_salary\\\"]\";\n",
       "                var nbb_formatted_code = \"df.collect()[3][\\\"list_salary\\\"]\";\n",
       "                var nbb_cells = Jupyter.notebook.get_cells();\n",
       "                for (var i = 0; i < nbb_cells.length; ++i) {\n",
       "                    if (nbb_cells[i].input_prompt_number == nbb_cell_id) {\n",
       "                        if (nbb_cells[i].get_text() == nbb_unformatted_code) {\n",
       "                             nbb_cells[i].set_text(nbb_formatted_code);\n",
       "                        }\n",
       "                        break;\n",
       "                    }\n",
       "                }\n",
       "            }, 500);\n",
       "            "
      ],
      "text/plain": [
       "<IPython.core.display.Javascript object>"
      ]
     },
     "metadata": {},
     "output_type": "display_data"
    }
   ],
   "source": [
    "df.collect()[3][\"list_salary\"]"
   ]
  },
  {
   "cell_type": "code",
   "execution_count": 16,
   "metadata": {},
   "outputs": [
    {
     "data": {
      "application/javascript": [
       "\n",
       "            setTimeout(function() {\n",
       "                var nbb_cell_id = 16;\n",
       "                var nbb_unformatted_code = \"windowSpec = (\\n    Window.partitionBy(\\\"dept\\\")\\n    .orderBy(F.asc(\\\"salary\\\"))\\n    .rowsBetween(-1, Window.currentRow)\\n)\";\n",
       "                var nbb_formatted_code = \"windowSpec = (\\n    Window.partitionBy(\\\"dept\\\")\\n    .orderBy(F.asc(\\\"salary\\\"))\\n    .rowsBetween(-1, Window.currentRow)\\n)\";\n",
       "                var nbb_cells = Jupyter.notebook.get_cells();\n",
       "                for (var i = 0; i < nbb_cells.length; ++i) {\n",
       "                    if (nbb_cells[i].input_prompt_number == nbb_cell_id) {\n",
       "                        if (nbb_cells[i].get_text() == nbb_unformatted_code) {\n",
       "                             nbb_cells[i].set_text(nbb_formatted_code);\n",
       "                        }\n",
       "                        break;\n",
       "                    }\n",
       "                }\n",
       "            }, 500);\n",
       "            "
      ],
      "text/plain": [
       "<IPython.core.display.Javascript object>"
      ]
     },
     "metadata": {},
     "output_type": "display_data"
    }
   ],
   "source": [
    "windowSpec = (\n",
    "    Window.partitionBy(\"dept\")\n",
    "    .orderBy(F.asc(\"salary\"))\n",
    "    .rowsBetween(-1, Window.currentRow)\n",
    ")"
   ]
  },
  {
   "cell_type": "code",
   "execution_count": 17,
   "metadata": {},
   "outputs": [
    {
     "name": "stdout",
     "output_type": "stream",
     "text": [
      "+---+-----+------+------------+--------------+------------+\n",
      "| id| dept|salary| list_salary|average_salary|total_salary|\n",
      "+---+-----+------+------------+--------------+------------+\n",
      "|  6|  dev|  3400|      [3400]|        3400.0|        3400|\n",
      "|  8|  dev|  3700|[3400, 3700]|        3550.0|        7100|\n",
      "|  9|  dev|  4400|[3700, 4400]|        4050.0|        8100|\n",
      "| 10|  dev|  4400|[4400, 4400]|        4400.0|        8800|\n",
      "|  7|  dev|  5200|[4400, 5200]|        4800.0|        9600|\n",
      "|  3|sales|  4000|      [4000]|        4000.0|        4000|\n",
      "|  4|sales|  4000|[4000, 4000]|        4000.0|        8000|\n",
      "|  1|sales|  4200|[4000, 4200]|        4100.0|        8200|\n",
      "|  5|admin|  2700|      [2700]|        2700.0|        2700|\n",
      "|  2|admin|  3100|[2700, 3100]|        2900.0|        5800|\n",
      "+---+-----+------+------------+--------------+------------+\n",
      "\n"
     ]
    },
    {
     "data": {
      "application/javascript": [
       "\n",
       "            setTimeout(function() {\n",
       "                var nbb_cell_id = 17;\n",
       "                var nbb_unformatted_code = \"df = (\\n    data.withColumn(\\\"list_salary\\\", F.collect_list(F.col(\\\"salary\\\")).over(windowSpec))\\n    .withColumn(\\\"average_salary\\\", F.avg(F.col(\\\"salary\\\")).over(windowSpec))\\n    .withColumn(\\\"total_salary\\\", F.sum(F.col(\\\"salary\\\")).over(windowSpec))\\n)\\n\\ndf.show()\";\n",
       "                var nbb_formatted_code = \"df = (\\n    data.withColumn(\\\"list_salary\\\", F.collect_list(F.col(\\\"salary\\\")).over(windowSpec))\\n    .withColumn(\\\"average_salary\\\", F.avg(F.col(\\\"salary\\\")).over(windowSpec))\\n    .withColumn(\\\"total_salary\\\", F.sum(F.col(\\\"salary\\\")).over(windowSpec))\\n)\\n\\ndf.show()\";\n",
       "                var nbb_cells = Jupyter.notebook.get_cells();\n",
       "                for (var i = 0; i < nbb_cells.length; ++i) {\n",
       "                    if (nbb_cells[i].input_prompt_number == nbb_cell_id) {\n",
       "                        if (nbb_cells[i].get_text() == nbb_unformatted_code) {\n",
       "                             nbb_cells[i].set_text(nbb_formatted_code);\n",
       "                        }\n",
       "                        break;\n",
       "                    }\n",
       "                }\n",
       "            }, 500);\n",
       "            "
      ],
      "text/plain": [
       "<IPython.core.display.Javascript object>"
      ]
     },
     "metadata": {},
     "output_type": "display_data"
    }
   ],
   "source": [
    "df = (\n",
    "    data.withColumn(\"list_salary\", F.collect_list(F.col(\"salary\")).over(windowSpec))\n",
    "    .withColumn(\"average_salary\", F.avg(F.col(\"salary\")).over(windowSpec))\n",
    "    .withColumn(\"total_salary\", F.sum(F.col(\"salary\")).over(windowSpec))\n",
    ")\n",
    "\n",
    "df.show()"
   ]
  },
  {
   "cell_type": "code",
   "execution_count": 18,
   "metadata": {},
   "outputs": [
    {
     "name": "stdout",
     "output_type": "stream",
     "text": [
      "+---+-----+------+------------------+------------+----+----------+---------+\n",
      "| id| dept|salary|    average_salary|total_salary|rank|dense_rank|perc_rank|\n",
      "+---+-----+------+------------------+------------+----+----------+---------+\n",
      "|  6|  dev|  3400|            3400.0|        3400|   1|         1|      0.0|\n",
      "|  8|  dev|  3700|            3550.0|        7100|   2|         2|     0.25|\n",
      "|  9|  dev|  4400|            3975.0|       15900|   3|         3|      0.5|\n",
      "| 10|  dev|  4400|            3975.0|       15900|   3|         3|      0.5|\n",
      "|  7|  dev|  5200|            4220.0|       21100|   5|         4|      1.0|\n",
      "|  3|sales|  4000|            4000.0|        8000|   1|         1|      0.0|\n",
      "|  4|sales|  4000|            4000.0|        8000|   1|         1|      0.0|\n",
      "|  1|sales|  4200|4066.6666666666665|       12200|   3|         2|      1.0|\n",
      "|  5|admin|  2700|            2700.0|        2700|   1|         1|      0.0|\n",
      "|  2|admin|  3100|            2900.0|        5800|   2|         2|      1.0|\n",
      "+---+-----+------+------------------+------------+----+----------+---------+\n",
      "\n"
     ]
    },
    {
     "data": {
      "application/javascript": [
       "\n",
       "            setTimeout(function() {\n",
       "                var nbb_cell_id = 18;\n",
       "                var nbb_unformatted_code = \"windowSpec = Window.partitionBy(\\\"dept\\\").orderBy(F.asc(\\\"salary\\\"))\\n\\ndf = (\\n    data.withColumn(\\\"average_salary\\\", F.avg(F.col(\\\"salary\\\")).over(windowSpec))\\n    .withColumn(\\\"total_salary\\\", F.sum(F.col(\\\"salary\\\")).over(windowSpec))\\n    .withColumn(\\\"rank\\\", F.rank().over(windowSpec))\\n    .withColumn(\\\"dense_rank\\\", F.dense_rank().over(windowSpec))\\n    .withColumn(\\\"perc_rank\\\", F.percent_rank().over(windowSpec))\\n)\\n\\n\\ndf.show()\";\n",
       "                var nbb_formatted_code = \"windowSpec = Window.partitionBy(\\\"dept\\\").orderBy(F.asc(\\\"salary\\\"))\\n\\ndf = (\\n    data.withColumn(\\\"average_salary\\\", F.avg(F.col(\\\"salary\\\")).over(windowSpec))\\n    .withColumn(\\\"total_salary\\\", F.sum(F.col(\\\"salary\\\")).over(windowSpec))\\n    .withColumn(\\\"rank\\\", F.rank().over(windowSpec))\\n    .withColumn(\\\"dense_rank\\\", F.dense_rank().over(windowSpec))\\n    .withColumn(\\\"perc_rank\\\", F.percent_rank().over(windowSpec))\\n)\\n\\n\\ndf.show()\";\n",
       "                var nbb_cells = Jupyter.notebook.get_cells();\n",
       "                for (var i = 0; i < nbb_cells.length; ++i) {\n",
       "                    if (nbb_cells[i].input_prompt_number == nbb_cell_id) {\n",
       "                        if (nbb_cells[i].get_text() == nbb_unformatted_code) {\n",
       "                             nbb_cells[i].set_text(nbb_formatted_code);\n",
       "                        }\n",
       "                        break;\n",
       "                    }\n",
       "                }\n",
       "            }, 500);\n",
       "            "
      ],
      "text/plain": [
       "<IPython.core.display.Javascript object>"
      ]
     },
     "metadata": {},
     "output_type": "display_data"
    }
   ],
   "source": [
    "windowSpec = Window.partitionBy(\"dept\").orderBy(F.asc(\"salary\"))\n",
    "\n",
    "df = (\n",
    "    data.withColumn(\"average_salary\", F.avg(F.col(\"salary\")).over(windowSpec))\n",
    "    .withColumn(\"total_salary\", F.sum(F.col(\"salary\")).over(windowSpec))\n",
    "    .withColumn(\"rank\", F.rank().over(windowSpec))\n",
    "    .withColumn(\"dense_rank\", F.dense_rank().over(windowSpec))\n",
    "    .withColumn(\"perc_rank\", F.percent_rank().over(windowSpec))\n",
    ")\n",
    "\n",
    "\n",
    "df.show()"
   ]
  },
  {
   "cell_type": "code",
   "execution_count": 19,
   "metadata": {},
   "outputs": [
    {
     "name": "stdout",
     "output_type": "stream",
     "text": [
      "+---+-----+------+----+\n",
      "| id| dept|salary| lag|\n",
      "+---+-----+------+----+\n",
      "|  6|  dev|  3400|null|\n",
      "|  8|  dev|  3700|3400|\n",
      "|  9|  dev|  4400|3700|\n",
      "| 10|  dev|  4400|4400|\n",
      "|  7|  dev|  5200|4400|\n",
      "|  3|sales|  4000|null|\n",
      "|  4|sales|  4000|4000|\n",
      "|  1|sales|  4200|4000|\n",
      "|  5|admin|  2700|null|\n",
      "|  2|admin|  3100|2700|\n",
      "+---+-----+------+----+\n",
      "\n"
     ]
    },
    {
     "data": {
      "application/javascript": [
       "\n",
       "            setTimeout(function() {\n",
       "                var nbb_cell_id = 19;\n",
       "                var nbb_unformatted_code = \"windowSpec = Window.partitionBy(\\\"dept\\\").orderBy(F.asc(\\\"salary\\\"))\\ndf = data.withColumn(\\\"lag\\\", F.lag(\\\"salary\\\", 1).over(windowSpec))\\n\\ndf.show()\";\n",
       "                var nbb_formatted_code = \"windowSpec = Window.partitionBy(\\\"dept\\\").orderBy(F.asc(\\\"salary\\\"))\\ndf = data.withColumn(\\\"lag\\\", F.lag(\\\"salary\\\", 1).over(windowSpec))\\n\\ndf.show()\";\n",
       "                var nbb_cells = Jupyter.notebook.get_cells();\n",
       "                for (var i = 0; i < nbb_cells.length; ++i) {\n",
       "                    if (nbb_cells[i].input_prompt_number == nbb_cell_id) {\n",
       "                        if (nbb_cells[i].get_text() == nbb_unformatted_code) {\n",
       "                             nbb_cells[i].set_text(nbb_formatted_code);\n",
       "                        }\n",
       "                        break;\n",
       "                    }\n",
       "                }\n",
       "            }, 500);\n",
       "            "
      ],
      "text/plain": [
       "<IPython.core.display.Javascript object>"
      ]
     },
     "metadata": {},
     "output_type": "display_data"
    }
   ],
   "source": [
    "windowSpec = Window.partitionBy(\"dept\").orderBy(F.asc(\"salary\"))\n",
    "df = data.withColumn(\"lag\", F.lag(\"salary\", 1).over(windowSpec))\n",
    "\n",
    "df.show()"
   ]
  },
  {
   "cell_type": "code",
   "execution_count": 20,
   "metadata": {},
   "outputs": [
    {
     "name": "stdout",
     "output_type": "stream",
     "text": [
      "+---+-----+------+----+----+\n",
      "| id| dept|salary| lag|diff|\n",
      "+---+-----+------+----+----+\n",
      "|  6|  dev|  3400|null|null|\n",
      "|  8|  dev|  3700|3400| 300|\n",
      "|  9|  dev|  4400|3700| 700|\n",
      "| 10|  dev|  4400|4400|   0|\n",
      "|  7|  dev|  5200|4400| 800|\n",
      "|  3|sales|  4000|null|null|\n",
      "|  4|sales|  4000|4000|   0|\n",
      "|  1|sales|  4200|4000| 200|\n",
      "|  5|admin|  2700|null|null|\n",
      "|  2|admin|  3100|2700| 400|\n",
      "+---+-----+------+----+----+\n",
      "\n"
     ]
    },
    {
     "data": {
      "application/javascript": [
       "\n",
       "            setTimeout(function() {\n",
       "                var nbb_cell_id = 20;\n",
       "                var nbb_unformatted_code = \"df.withColumn(\\\"diff\\\", F.col(\\\"salary\\\") - F.col(\\\"lag\\\")).show()\";\n",
       "                var nbb_formatted_code = \"df.withColumn(\\\"diff\\\", F.col(\\\"salary\\\") - F.col(\\\"lag\\\")).show()\";\n",
       "                var nbb_cells = Jupyter.notebook.get_cells();\n",
       "                for (var i = 0; i < nbb_cells.length; ++i) {\n",
       "                    if (nbb_cells[i].input_prompt_number == nbb_cell_id) {\n",
       "                        if (nbb_cells[i].get_text() == nbb_unformatted_code) {\n",
       "                             nbb_cells[i].set_text(nbb_formatted_code);\n",
       "                        }\n",
       "                        break;\n",
       "                    }\n",
       "                }\n",
       "            }, 500);\n",
       "            "
      ],
      "text/plain": [
       "<IPython.core.display.Javascript object>"
      ]
     },
     "metadata": {},
     "output_type": "display_data"
    }
   ],
   "source": [
    "df.withColumn(\"diff\", F.col(\"salary\") - F.col(\"lag\")).show()"
   ]
  },
  {
   "cell_type": "code",
   "execution_count": null,
   "metadata": {},
   "outputs": [],
   "source": []
  }
 ],
 "metadata": {
  "kernelspec": {
   "display_name": "Python 3",
   "language": "python",
   "name": "python3"
  },
  "language_info": {
   "codemirror_mode": {
    "name": "ipython",
    "version": 3
   },
   "file_extension": ".py",
   "mimetype": "text/x-python",
   "name": "python",
   "nbconvert_exporter": "python",
   "pygments_lexer": "ipython3",
   "version": "3.7.3"
  }
 },
 "nbformat": 4,
 "nbformat_minor": 2
}
