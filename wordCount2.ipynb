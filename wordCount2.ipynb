{
 "cells": [
  {
   "cell_type": "code",
   "execution_count": 4,
   "id": "f1e3bcf9",
   "metadata": {},
   "outputs": [],
   "source": [
    "import findspark\n",
    "findspark.init()\n",
    "from pyspark.sql import SparkSession\n",
    "#from pyspark import SparkContext\n",
    "#sc= SparkContext()"
   ]
  },
  {
   "cell_type": "code",
   "execution_count": 6,
   "id": "425d416d",
   "metadata": {},
   "outputs": [],
   "source": [
    "lines=sc.textFile(\"C:\\\\Users\\\\bhupa\\Desktop\\pyspark\\word_count.txt\")\n",
    "wordRdd = lines.flatMap(lambda line: line.split(\" \"))\n",
    "wordPairRdd=wordRdd.map(lambda word: (word,1))"
   ]
  },
  {
   "cell_type": "code",
   "execution_count": 7,
   "id": "3760d20e",
   "metadata": {},
   "outputs": [
    {
     "name": "stdout",
     "output_type": "stream",
     "text": [
      "Lists : 1\n",
      "are : 2\n",
      "collection : 6\n",
      "of : 5\n",
      "Tuple : 1\n",
      "is : 8\n",
      "Python : 1\n",
      "immutable : 2\n",
      "mutable : 2\n",
      "Set : 1\n",
      "an : 2\n",
      "type : 1\n",
      "no : 1\n",
      "Dictionary : 1\n",
      "holds : 1\n",
      "value : 1\n",
      "in : 1\n",
      "into : 1\n",
      "named : 1\n",
      "columns : 1\n",
      "ordered : 1\n",
      "elements : 3\n",
      "a : 3\n",
      "objects : 1\n",
      "which : 2\n",
      "unlike : 1\n",
      "lists : 1\n",
      "that : 2\n",
      "unordered : 2\n",
      "data : 4\n",
      "iterable, : 1\n",
      "and : 2\n",
      "has : 1\n",
      "duplicate : 1\n",
      "values : 1\n",
      "key : 1\n",
      "pair : 1\n",
      "RDD : 1\n",
      "distributed : 2\n",
      "spread : 1\n",
      "across : 1\n",
      "many : 1\n",
      "machines : 1\n",
      "the : 1\n",
      "cluster : 1\n",
      "DataFrame : 1\n",
      "organized : 1\n"
     ]
    }
   ],
   "source": [
    "wordCounts = wordPairRdd.reduceByKey(lambda x,y: x+y)\n",
    "for word,count in wordCounts.collect():\n",
    "    print(\"{} : {}\".format(word,count))"
   ]
  },
  {
   "cell_type": "code",
   "execution_count": null,
   "id": "ec184344",
   "metadata": {},
   "outputs": [],
   "source": []
  }
 ],
 "metadata": {
  "kernelspec": {
   "display_name": "Python 3",
   "language": "python",
   "name": "python3"
  },
  "language_info": {
   "codemirror_mode": {
    "name": "ipython",
    "version": 3
   },
   "file_extension": ".py",
   "mimetype": "text/x-python",
   "name": "python",
   "nbconvert_exporter": "python",
   "pygments_lexer": "ipython3",
   "version": "3.8.8"
  }
 },
 "nbformat": 4,
 "nbformat_minor": 5
}
