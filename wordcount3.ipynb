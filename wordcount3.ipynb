{
 "cells": [
  {
   "cell_type": "code",
   "execution_count": 1,
   "id": "106335d5",
   "metadata": {},
   "outputs": [],
   "source": [
    "import findspark\n",
    "findspark.init()"
   ]
  },
  {
   "cell_type": "code",
   "execution_count": 2,
   "id": "3f698296",
   "metadata": {},
   "outputs": [],
   "source": [
    "from pyspark.sql import SparkSession\n",
    "spark=SparkSession.builder.appName(\"wordcount\").getOrCreate()\n",
    "sc=spark.sparkContext"
   ]
  },
  {
   "cell_type": "code",
   "execution_count": 26,
   "id": "3adfae89",
   "metadata": {},
   "outputs": [],
   "source": [
    "in_rdd=sc.textFile(\"C:\\\\Users\\\\bhupa\\Desktop\\pyspark\\source_data\\wordcountFile.txt\")"
   ]
  },
  {
   "cell_type": "code",
   "execution_count": 27,
   "id": "7d8b8fea",
   "metadata": {},
   "outputs": [
    {
     "data": {
      "text/plain": [
       "['repartitio creates specified files partition memory',\n",
       " 'partitionBy write files memory partition partition']"
      ]
     },
     "execution_count": 27,
     "metadata": {},
     "output_type": "execute_result"
    }
   ],
   "source": [
    "in_rdd.collect()"
   ]
  },
  {
   "cell_type": "code",
   "execution_count": 36,
   "id": "4b058732",
   "metadata": {},
   "outputs": [],
   "source": [
    "words = in_rdd.flatMap(lambda x: x.split(\" \"))"
   ]
  },
  {
   "cell_type": "code",
   "execution_count": 38,
   "id": "cc46aab3",
   "metadata": {},
   "outputs": [
    {
     "data": {
      "text/plain": [
       "defaultdict(int,\n",
       "            {'repartitio': 1,\n",
       "             'creates': 1,\n",
       "             'specified': 1,\n",
       "             'files': 2,\n",
       "             'partition': 3,\n",
       "             'memory': 2,\n",
       "             'partitionBy': 1,\n",
       "             'write': 1})"
      ]
     },
     "execution_count": 38,
     "metadata": {},
     "output_type": "execute_result"
    }
   ],
   "source": [
    "words.countByValue()"
   ]
  },
  {
   "cell_type": "code",
   "execution_count": 39,
   "id": "ac610c1b",
   "metadata": {},
   "outputs": [],
   "source": [
    "wordcount=words.map(lambda x: (x,1)).reduceByKey(lambda a,b: a+b)"
   ]
  },
  {
   "cell_type": "code",
   "execution_count": 40,
   "id": "3f761d5a",
   "metadata": {},
   "outputs": [
    {
     "data": {
      "text/plain": [
       "[('repartitio', 1),\n",
       " ('files', 2),\n",
       " ('partition', 3),\n",
       " ('creates', 1),\n",
       " ('specified', 1),\n",
       " ('memory', 2),\n",
       " ('partitionBy', 1),\n",
       " ('write', 1)]"
      ]
     },
     "execution_count": 40,
     "metadata": {},
     "output_type": "execute_result"
    }
   ],
   "source": [
    "wordcount.collect()"
   ]
  },
  {
   "cell_type": "code",
   "execution_count": 41,
   "id": "89173bd4",
   "metadata": {},
   "outputs": [
    {
     "data": {
      "text/plain": [
       "pyspark.rdd.PipelinedRDD"
      ]
     },
     "execution_count": 41,
     "metadata": {},
     "output_type": "execute_result"
    }
   ],
   "source": [
    "type(wordcount)"
   ]
  },
  {
   "cell_type": "code",
   "execution_count": null,
   "id": "d0d36d0e",
   "metadata": {},
   "outputs": [],
   "source": []
  }
 ],
 "metadata": {
  "kernelspec": {
   "display_name": "Python 3",
   "language": "python",
   "name": "python3"
  },
  "language_info": {
   "codemirror_mode": {
    "name": "ipython",
    "version": 3
   },
   "file_extension": ".py",
   "mimetype": "text/x-python",
   "name": "python",
   "nbconvert_exporter": "python",
   "pygments_lexer": "ipython3",
   "version": "3.8.8"
  }
 },
 "nbformat": 4,
 "nbformat_minor": 5
}
