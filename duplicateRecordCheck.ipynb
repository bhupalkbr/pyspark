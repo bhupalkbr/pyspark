{
 "cells": [
  {
   "cell_type": "code",
   "execution_count": 1,
   "id": "972b9c96",
   "metadata": {},
   "outputs": [],
   "source": [
    "import findspark\n",
    "findspark.init()"
   ]
  },
  {
   "cell_type": "code",
   "execution_count": 3,
   "id": "50441de4",
   "metadata": {},
   "outputs": [],
   "source": [
    "from pyspark.sql import SparkSession\n",
    "spark=SparkSession.builder.appName(\"duplicate count check\").getOrCreate()"
   ]
  },
  {
   "cell_type": "code",
   "execution_count": 4,
   "id": "673a9c85",
   "metadata": {},
   "outputs": [],
   "source": [
    "in_df=spark.read.csv(\"C:\\\\Users\\\\bhupa\\Desktop\\pyspark\\source_data\\dupCountCheck.csv\",sep='|',header=True)"
   ]
  },
  {
   "cell_type": "code",
   "execution_count": 5,
   "id": "c4e30f4e",
   "metadata": {},
   "outputs": [
    {
     "name": "stdout",
     "output_type": "stream",
     "text": [
      "+------+---+----------+----+\n",
      "|  Name|Age| Education| DOB|\n",
      "+------+---+----------+----+\n",
      "|Bhupal| 38|     MTech|2008|\n",
      "| Pujya|  8|ThirdGrade|2021|\n",
      "|Anitha| 35|       MSc|2010|\n",
      "|Bhupal| 38|     MTech|2008|\n",
      "|Havish|  4|       UKG|2020|\n",
      "| Pujya|  8|ThirdGrade|2021|\n",
      "| Pujya|  8|ThirdGrade|2021|\n",
      "+------+---+----------+----+\n",
      "\n"
     ]
    }
   ],
   "source": [
    "in_df.show()"
   ]
  },
  {
   "cell_type": "code",
   "execution_count": 10,
   "id": "bf866be4",
   "metadata": {},
   "outputs": [
    {
     "name": "stdout",
     "output_type": "stream",
     "text": [
      "+------+---+----------+----+\n",
      "|  Name|Age| Education| DOB|\n",
      "+------+---+----------+----+\n",
      "|Bhupal| 38|     MTech|2008|\n",
      "| Pujya|  8|ThirdGrade|2021|\n",
      "+------+---+----------+----+\n",
      "\n"
     ]
    }
   ],
   "source": [
    "in_df.groupBy(\"Name\",\"Age\",\"Education\",\"DOB\").count().where(\"count>1\").drop(\"count\").show()"
   ]
  },
  {
   "cell_type": "code",
   "execution_count": 13,
   "id": "bf88434e",
   "metadata": {},
   "outputs": [],
   "source": [
    "from pyspark.sql.window import Window\n",
    "from pyspark.sql import functions as f\n",
    "win=Window.partitionBy(\"Name\").orderBy(f.col(\"DOB\").desc())"
   ]
  },
  {
   "cell_type": "code",
   "execution_count": 18,
   "id": "e1656299",
   "metadata": {},
   "outputs": [],
   "source": [
    "out_df=in_df.withColumn(\"rank\",f.row_number().over(win))\\\n",
    "    .filter(\"rank>1\")\\\n",
    "    .drop(\"rank\").dropDuplicates()"
   ]
  },
  {
   "cell_type": "code",
   "execution_count": 19,
   "id": "17e0f0a5",
   "metadata": {},
   "outputs": [
    {
     "name": "stdout",
     "output_type": "stream",
     "text": [
      "+------+---+----------+----+\n",
      "|  Name|Age| Education| DOB|\n",
      "+------+---+----------+----+\n",
      "| Pujya|  8|ThirdGrade|2021|\n",
      "|Bhupal| 38|     MTech|2008|\n",
      "+------+---+----------+----+\n",
      "\n"
     ]
    }
   ],
   "source": [
    "out_df.show()"
   ]
  },
  {
   "cell_type": "code",
   "execution_count": 20,
   "id": "895b48e9",
   "metadata": {},
   "outputs": [
    {
     "name": "stdout",
     "output_type": "stream",
     "text": [
      "+------+---+----------+----+\n",
      "|  Name|Age| Education| DOB|\n",
      "+------+---+----------+----+\n",
      "|Bhupal| 38|     MTech|2008|\n",
      "| Pujya|  8|ThirdGrade|2021|\n",
      "|Anitha| 35|       MSc|2010|\n",
      "|Bhupal| 38|     MTech|2008|\n",
      "|Havish|  4|       UKG|2020|\n",
      "| Pujya|  8|ThirdGrade|2021|\n",
      "| Pujya|  8|ThirdGrade|2021|\n",
      "+------+---+----------+----+\n",
      "\n"
     ]
    }
   ],
   "source": [
    "in_df.show()"
   ]
  },
  {
   "cell_type": "code",
   "execution_count": null,
   "id": "8e342b87",
   "metadata": {},
   "outputs": [],
   "source": []
  }
 ],
 "metadata": {
  "kernelspec": {
   "display_name": "Python 3",
   "language": "python",
   "name": "python3"
  },
  "language_info": {
   "codemirror_mode": {
    "name": "ipython",
    "version": 3
   },
   "file_extension": ".py",
   "mimetype": "text/x-python",
   "name": "python",
   "nbconvert_exporter": "python",
   "pygments_lexer": "ipython3",
   "version": "3.8.8"
  }
 },
 "nbformat": 4,
 "nbformat_minor": 5
}
