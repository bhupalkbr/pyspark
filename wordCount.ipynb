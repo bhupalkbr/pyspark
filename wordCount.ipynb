{
 "cells": [
  {
   "cell_type": "code",
   "execution_count": 1,
   "id": "f7e4f032",
   "metadata": {},
   "outputs": [],
   "source": [
    "import findspark\n",
    "findspark.init()\n",
    "from pyspark.sql import SparkSession\n",
    "from pyspark import SparkContext"
   ]
  },
  {
   "cell_type": "code",
   "execution_count": 2,
   "id": "a16fd503",
   "metadata": {},
   "outputs": [],
   "source": [
    "sc= SparkContext()"
   ]
  },
  {
   "cell_type": "code",
   "execution_count": 3,
   "id": "23423a12",
   "metadata": {},
   "outputs": [],
   "source": [
    "lines=sc.textFile(\"C:\\\\Users\\\\bhupa\\Desktop\\pyspark\\word_count.txt\")"
   ]
  },
  {
   "cell_type": "code",
   "execution_count": 4,
   "id": "6cbecdc2",
   "metadata": {},
   "outputs": [],
   "source": [
    "words = lines.flatMap(lambda line: line.split(\" \"))"
   ]
  },
  {
   "cell_type": "code",
   "execution_count": 5,
   "id": "f8eeafda",
   "metadata": {},
   "outputs": [],
   "source": [
    "wordCounts = words.countByValue()"
   ]
  },
  {
   "cell_type": "code",
   "execution_count": 6,
   "id": "df742909",
   "metadata": {},
   "outputs": [
    {
     "name": "stdout",
     "output_type": "stream",
     "text": [
      "Lists:1\n",
      "are:2\n",
      "ordered:1\n",
      "collection:6\n",
      "of:5\n",
      "elements:3\n",
      "Tuple:1\n",
      "is:8\n",
      "a:3\n",
      "Python:1\n",
      "objects:1\n",
      "which:2\n",
      "immutable:2\n",
      "unlike:1\n",
      "lists:1\n",
      "that:2\n",
      "mutable:2\n",
      "Set:1\n",
      "an:2\n",
      "unordered:2\n",
      "data:4\n",
      "type:1\n",
      "iterable,:1\n",
      "and:2\n",
      "has:1\n",
      "no:1\n",
      "duplicate:1\n",
      "Dictionary:1\n",
      "values:1\n",
      "holds:1\n",
      "key:1\n",
      "value:1\n",
      "pair:1\n",
      "RDD:1\n",
      "distributed:2\n",
      "spread:1\n",
      "across:1\n",
      "many:1\n",
      "machines:1\n",
      "in:1\n",
      "the:1\n",
      "cluster:1\n",
      "DataFrame:1\n",
      "organized:1\n",
      "into:1\n",
      "named:1\n",
      "columns:1\n"
     ]
    }
   ],
   "source": [
    "for word, count in wordCounts.items():\n",
    "    print('{}:{}'.format(word,count))"
   ]
  },
  {
   "cell_type": "code",
   "execution_count": null,
   "id": "71e90a4b",
   "metadata": {},
   "outputs": [],
   "source": []
  }
 ],
 "metadata": {
  "kernelspec": {
   "display_name": "Python 3",
   "language": "python",
   "name": "python3"
  },
  "language_info": {
   "codemirror_mode": {
    "name": "ipython",
    "version": 3
   },
   "file_extension": ".py",
   "mimetype": "text/x-python",
   "name": "python",
   "nbconvert_exporter": "python",
   "pygments_lexer": "ipython3",
   "version": "3.8.8"
  }
 },
 "nbformat": 4,
 "nbformat_minor": 5
}
