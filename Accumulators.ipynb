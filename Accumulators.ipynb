{
 "cells": [
  {
   "cell_type": "code",
   "execution_count": 1,
   "id": "483372bf",
   "metadata": {},
   "outputs": [],
   "source": [
    "import findspark\n",
    "findspark.init()"
   ]
  },
  {
   "cell_type": "code",
   "execution_count": 13,
   "id": "0d9979c2",
   "metadata": {},
   "outputs": [],
   "source": [
    "from pyspark.sql import SparkSession\n",
    "from pyspark.context import SparkContext\n",
    "spark=SparkSession.builder.master(\"local\").appName(\"Accumulator\").getOrCreate()\n",
    "sc=SparkContext.getOrCreate()"
   ]
  },
  {
   "cell_type": "code",
   "execution_count": 6,
   "id": "8acc5d50",
   "metadata": {},
   "outputs": [],
   "source": [
    "df = spark.read.option(\"inferSchema\",\"true\").json(\"C:\\\\Users\\\\bhupa\\Desktop\\pyspark\\source_data\\input.json\")"
   ]
  },
  {
   "cell_type": "code",
   "execution_count": 7,
   "id": "5956df0c",
   "metadata": {},
   "outputs": [
    {
     "name": "stdout",
     "output_type": "stream",
     "text": [
      "+---+-------+\n",
      "|Age|   name|\n",
      "+---+-------+\n",
      "| 31|   Alex|\n",
      "|  1|  Anwar|\n",
      "| 89|Senthil|\n",
      "| 25|   Azar|\n",
      "| 55|   Elil|\n",
      "| 11| George|\n",
      "| 18|   Mike|\n",
      "| 21|   Mark|\n",
      "| 19|    Taj|\n",
      "| 16|  Thaha|\n",
      "| 46| Suresh|\n",
      "| 72| Hussey|\n",
      "| 35|   gary|\n",
      "| 45|  Clara|\n",
      "| 19|  Thara|\n",
      "| 34|  Radha|\n",
      "|  3|  Badri|\n",
      "| 14|  Thaha|\n",
      "+---+-------+\n",
      "\n"
     ]
    }
   ],
   "source": [
    "df.show()"
   ]
  },
  {
   "cell_type": "code",
   "execution_count": 14,
   "id": "03a0cdb3",
   "metadata": {},
   "outputs": [],
   "source": [
    "counter=sc.accumulator(0)"
   ]
  },
  {
   "cell_type": "code",
   "execution_count": 15,
   "id": "f740adca",
   "metadata": {},
   "outputs": [],
   "source": [
    "from pyspark.accumulators import AccumulatorParam"
   ]
  },
  {
   "cell_type": "code",
   "execution_count": 34,
   "id": "623e8bde",
   "metadata": {},
   "outputs": [],
   "source": [
    "class StringAccumulator(AccumulatorParam):\n",
    "    def zero(self,initialValue=\" \"):\n",
    "        return \" \"\n",
    "    def addInPlace(self,s1,s2):\n",
    "        print(s1,s2)\n",
    "        return s1.strip ()+\" \"+ s2.strip()"
   ]
  },
  {
   "cell_type": "code",
   "execution_count": 22,
   "id": "2ce42b87",
   "metadata": {},
   "outputs": [],
   "source": [
    "counterValue=sc.accumulator(\" \",StringAccumulator())"
   ]
  },
  {
   "cell_type": "code",
   "execution_count": 28,
   "id": "4bcadd83",
   "metadata": {},
   "outputs": [],
   "source": [
    "def validate(row):\n",
    "    age=row.Age\n",
    "    if age<18:\n",
    "        counter.add(1)\n",
    "        counterValue.add(str(age))"
   ]
  },
  {
   "cell_type": "code",
   "execution_count": 29,
   "id": "004a3846",
   "metadata": {},
   "outputs": [],
   "source": [
    "df.foreach(lambda x: validate(x))"
   ]
  },
  {
   "cell_type": "code",
   "execution_count": 35,
   "id": "a159c7c4",
   "metadata": {},
   "outputs": [
    {
     "data": {
      "text/plain": [
       "9"
      ]
     },
     "execution_count": 35,
     "metadata": {},
     "output_type": "execute_result"
    }
   ],
   "source": [
    "counter.value"
   ]
  },
  {
   "cell_type": "code",
   "execution_count": 36,
   "id": "8b1a1977",
   "metadata": {},
   "outputs": [
    {
     "data": {
      "text/plain": [
       "'1 11 3 14 1 11 16 3 14'"
      ]
     },
     "execution_count": 36,
     "metadata": {},
     "output_type": "execute_result"
    }
   ],
   "source": [
    "counterValue.value"
   ]
  },
  {
   "cell_type": "code",
   "execution_count": null,
   "id": "7f3868da",
   "metadata": {},
   "outputs": [],
   "source": []
  }
 ],
 "metadata": {
  "kernelspec": {
   "display_name": "Python 3",
   "language": "python",
   "name": "python3"
  },
  "language_info": {
   "codemirror_mode": {
    "name": "ipython",
    "version": 3
   },
   "file_extension": ".py",
   "mimetype": "text/x-python",
   "name": "python",
   "nbconvert_exporter": "python",
   "pygments_lexer": "ipython3",
   "version": "3.8.8"
  }
 },
 "nbformat": 4,
 "nbformat_minor": 5
}
