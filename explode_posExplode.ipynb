{
 "cells": [
  {
   "cell_type": "code",
   "execution_count": 1,
   "id": "0efe6724",
   "metadata": {},
   "outputs": [],
   "source": [
    "import findspark\n",
    "findspark.init()"
   ]
  },
  {
   "cell_type": "code",
   "execution_count": 4,
   "id": "17e1bbde",
   "metadata": {},
   "outputs": [],
   "source": [
    "from pyspark.sql import SparkSession\n",
    "spark=SparkSession.builder.appName(\"explode\").getOrCreate()\n",
    "sc=spark.sparkContext"
   ]
  },
  {
   "cell_type": "code",
   "execution_count": 5,
   "id": "477280ec",
   "metadata": {},
   "outputs": [],
   "source": [
    "in_df=spark.read.csv(\"C:\\\\Users\\\\bhupa\\Desktop\\pyspark\\source_data\\input4.csv\",sep=\"|\",header=True)"
   ]
  },
  {
   "cell_type": "code",
   "execution_count": 7,
   "id": "9d36b1cf",
   "metadata": {},
   "outputs": [
    {
     "name": "stdout",
     "output_type": "stream",
     "text": [
      "+------+---+---------------+\n",
      "|  Name|Age|      Education|\n",
      "+------+---+---------------+\n",
      "|Bhupal| 38|MTech,BTech,SSC|\n",
      "| Pujya|  8|     ThirdGrade|\n",
      "|Anitha| 35|        MSc,BSC|\n",
      "|Havish|  4|           null|\n",
      "+------+---+---------------+\n",
      "\n"
     ]
    }
   ],
   "source": [
    "in_df.show()"
   ]
  },
  {
   "cell_type": "code",
   "execution_count": 13,
   "id": "b43294ca",
   "metadata": {},
   "outputs": [
    {
     "name": "stdout",
     "output_type": "stream",
     "text": [
      "+------+---+---------------+-------------+\n",
      "|  Name|Age|      Education|Qualification|\n",
      "+------+---+---------------+-------------+\n",
      "|Bhupal| 38|MTech,BTech,SSC|        MTech|\n",
      "|Bhupal| 38|MTech,BTech,SSC|        BTech|\n",
      "|Bhupal| 38|MTech,BTech,SSC|          SSC|\n",
      "| Pujya|  8|     ThirdGrade|   ThirdGrade|\n",
      "|Anitha| 35|        MSc,BSC|          MSc|\n",
      "|Anitha| 35|        MSc,BSC|          BSC|\n",
      "|Havish|  4|           null|         null|\n",
      "+------+---+---------------+-------------+\n",
      "\n"
     ]
    }
   ],
   "source": [
    "from pyspark.sql.functions import explode_outer,split\n",
    "in_df.withColumn(\"Qualification\",explode_outer(split(\"Education\",\",\"))).show()"
   ]
  },
  {
   "cell_type": "code",
   "execution_count": null,
   "id": "dc3bee6b",
   "metadata": {},
   "outputs": [],
   "source": []
  }
 ],
 "metadata": {
  "kernelspec": {
   "display_name": "Python 3",
   "language": "python",
   "name": "python3"
  },
  "language_info": {
   "codemirror_mode": {
    "name": "ipython",
    "version": 3
   },
   "file_extension": ".py",
   "mimetype": "text/x-python",
   "name": "python",
   "nbconvert_exporter": "python",
   "pygments_lexer": "ipython3",
   "version": "3.8.8"
  }
 },
 "nbformat": 4,
 "nbformat_minor": 5
}
