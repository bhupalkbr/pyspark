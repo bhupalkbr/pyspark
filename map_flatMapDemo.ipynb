{
 "cells": [
  {
   "cell_type": "code",
   "execution_count": 1,
   "id": "7fb78a05",
   "metadata": {},
   "outputs": [],
   "source": [
    "import findspark\n",
    "findspark.init()"
   ]
  },
  {
   "cell_type": "code",
   "execution_count": 5,
   "id": "5b6bbbef",
   "metadata": {},
   "outputs": [],
   "source": [
    "from pyspark.sql import SparkSession\n",
    "spark=SparkSession.builder.appName(\"map & flatMap demo\").getOrCreate()\n",
    "sc=spark.sparkContext"
   ]
  },
  {
   "cell_type": "code",
   "execution_count": 6,
   "id": "f42ebecd",
   "metadata": {},
   "outputs": [],
   "source": [
    "in_rdd=sc.textFile(\"C:\\\\Users\\\\bhupa\\Desktop\\pyspark\\source_data\\map_flatMap.txt\")"
   ]
  },
  {
   "cell_type": "code",
   "execution_count": 8,
   "id": "def4bd77",
   "metadata": {},
   "outputs": [
    {
     "data": {
      "text/plain": [
       "['101,Bhupal,HealthCare',\n",
       " '102,Havish,Finance',\n",
       " '103,Anitha,IT',\n",
       " '104,Pujya,HR']"
      ]
     },
     "execution_count": 8,
     "metadata": {},
     "output_type": "execute_result"
    }
   ],
   "source": [
    "in_rdd.collect()"
   ]
  },
  {
   "cell_type": "code",
   "execution_count": 9,
   "id": "01af9bc9",
   "metadata": {},
   "outputs": [
    {
     "data": {
      "text/plain": [
       "4"
      ]
     },
     "execution_count": 9,
     "metadata": {},
     "output_type": "execute_result"
    }
   ],
   "source": [
    "in_rdd.count()"
   ]
  },
  {
   "cell_type": "code",
   "execution_count": 11,
   "id": "3aae195f",
   "metadata": {},
   "outputs": [],
   "source": [
    "map_rdd = in_rdd.map(lambda x: x.split(','))"
   ]
  },
  {
   "cell_type": "code",
   "execution_count": 12,
   "id": "d2dac9f3",
   "metadata": {},
   "outputs": [
    {
     "data": {
      "text/plain": [
       "[['101', 'Bhupal', 'HealthCare'],\n",
       " ['102', 'Havish', 'Finance'],\n",
       " ['103', 'Anitha', 'IT'],\n",
       " ['104', 'Pujya', 'HR']]"
      ]
     },
     "execution_count": 12,
     "metadata": {},
     "output_type": "execute_result"
    }
   ],
   "source": [
    "map_rdd.collect()"
   ]
  },
  {
   "cell_type": "code",
   "execution_count": 13,
   "id": "9255e9d1",
   "metadata": {},
   "outputs": [],
   "source": [
    "flatMap_rdd = in_rdd.flatMap(lambda x: x.split(','))"
   ]
  },
  {
   "cell_type": "code",
   "execution_count": 15,
   "id": "4af832a1",
   "metadata": {},
   "outputs": [
    {
     "data": {
      "text/plain": [
       "['101',\n",
       " 'Bhupal',\n",
       " 'HealthCare',\n",
       " '102',\n",
       " 'Havish',\n",
       " 'Finance',\n",
       " '103',\n",
       " 'Anitha',\n",
       " 'IT',\n",
       " '104',\n",
       " 'Pujya',\n",
       " 'HR']"
      ]
     },
     "execution_count": 15,
     "metadata": {},
     "output_type": "execute_result"
    }
   ],
   "source": [
    "flatMap_rdd.collect()"
   ]
  },
  {
   "cell_type": "code",
   "execution_count": 16,
   "id": "024474ba",
   "metadata": {},
   "outputs": [
    {
     "data": {
      "text/plain": [
       "12"
      ]
     },
     "execution_count": 16,
     "metadata": {},
     "output_type": "execute_result"
    }
   ],
   "source": [
    "flatMap_rdd.count()"
   ]
  },
  {
   "cell_type": "code",
   "execution_count": null,
   "id": "5d87db5e",
   "metadata": {},
   "outputs": [],
   "source": []
  },
  {
   "cell_type": "code",
   "execution_count": null,
   "id": "f0cd623d",
   "metadata": {},
   "outputs": [],
   "source": []
  }
 ],
 "metadata": {
  "kernelspec": {
   "display_name": "Python 3",
   "language": "python",
   "name": "python3"
  },
  "language_info": {
   "codemirror_mode": {
    "name": "ipython",
    "version": 3
   },
   "file_extension": ".py",
   "mimetype": "text/x-python",
   "name": "python",
   "nbconvert_exporter": "python",
   "pygments_lexer": "ipython3",
   "version": "3.8.8"
  }
 },
 "nbformat": 4,
 "nbformat_minor": 5
}
